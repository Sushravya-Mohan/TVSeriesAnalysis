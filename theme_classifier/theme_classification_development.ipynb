{
 "cells": [
  {
   "cell_type": "code",
   "execution_count": 2,
   "metadata": {},
   "outputs": [
    {
     "name": "stderr",
     "output_type": "stream",
     "text": [
      "/usr/local/python/3.12.1/lib/python3.12/site-packages/tqdm/auto.py:21: TqdmWarning: IProgress not found. Please update jupyter and ipywidgets. See https://ipywidgets.readthedocs.io/en/stable/user_install.html\n",
      "  from .autonotebook import tqdm as notebook_tqdm\n"
     ]
    }
   ],
   "source": [
    "from transformers import pipeline\n",
    "import torch\n",
    "from glob import glob\n",
    "import pandas as pd\n",
    "from nltk import sent_tokenize\n",
    "import nltk\n",
    "import numpy as np"
   ]
  },
  {
   "cell_type": "code",
   "execution_count": 3,
   "metadata": {},
   "outputs": [
    {
     "name": "stderr",
     "output_type": "stream",
     "text": [
      "[nltk_data] Downloading package punkt_tab to\n",
      "[nltk_data]     /home/codespace/nltk_data...\n",
      "[nltk_data]   Package punkt_tab is already up-to-date!\n"
     ]
    },
    {
     "data": {
      "text/plain": [
       "True"
      ]
     },
     "execution_count": 3,
     "metadata": {},
     "output_type": "execute_result"
    }
   ],
   "source": [
    "nltk.download('punkt_tab')"
   ]
  },
  {
   "cell_type": "markdown",
   "metadata": {},
   "source": [
    "### Load Model"
   ]
  },
  {
   "cell_type": "code",
   "execution_count": 4,
   "metadata": {},
   "outputs": [],
   "source": [
    "model_name = \"facebook/bart-large-mnli\"\n",
    "device = 0 if torch.cuda.is_available() else 'cpu'"
   ]
  },
  {
   "cell_type": "code",
   "execution_count": 5,
   "metadata": {},
   "outputs": [],
   "source": [
    "def load_model(device):\n",
    "    theme_classifier = pipeline(\n",
    "        \"zero-shot-classification\",\n",
    "        model=model_name,\n",
    "        device=device\n",
    "    )\n",
    "    return theme_classifier"
   ]
  },
  {
   "cell_type": "code",
   "execution_count": 6,
   "metadata": {},
   "outputs": [
    {
     "name": "stderr",
     "output_type": "stream",
     "text": [
      "/usr/local/python/3.12.1/lib/python3.12/site-packages/transformers/tokenization_utils_base.py:1601: FutureWarning: `clean_up_tokenization_spaces` was not set. It will be set to `True` by default. This behavior will be depracted in transformers v4.45, and will be then set to `False` by default. For more details check this issue: https://github.com/huggingface/transformers/issues/31884\n",
      "  warnings.warn(\n"
     ]
    }
   ],
   "source": [
    "theme_classifier = load_model(device)"
   ]
  },
  {
   "cell_type": "code",
   "execution_count": 7,
   "metadata": {},
   "outputs": [],
   "source": [
    "theme_list = [\"friendship\", \"hope\", \"sacrifice\", \"battle\", \"self development\", \"betrayal\", \"love\", \"dialogue\"]"
   ]
  },
  {
   "cell_type": "code",
   "execution_count": 8,
   "metadata": {},
   "outputs": [
    {
     "data": {
      "text/plain": [
       "{'sequence': 'I gave him a right hook then a left jab',\n",
       " 'labels': ['battle',\n",
       "  'self development',\n",
       "  'hope',\n",
       "  'sacrifice',\n",
       "  'dialogue',\n",
       "  'betrayal',\n",
       "  'love',\n",
       "  'friendship'],\n",
       " 'scores': [0.912125289440155,\n",
       "  0.47500237822532654,\n",
       "  0.0878179669380188,\n",
       "  0.04500036686658859,\n",
       "  0.020132793113589287,\n",
       "  0.012040523812174797,\n",
       "  0.004292386583983898,\n",
       "  0.0028172149322927]}"
      ]
     },
     "execution_count": 8,
     "metadata": {},
     "output_type": "execute_result"
    }
   ],
   "source": [
    "theme_classifier(\n",
    "    \"I gave him a right hook then a left jab\",\n",
    "    theme_list,\n",
    "    multi_label=True\n",
    "    )"
   ]
  },
  {
   "cell_type": "markdown",
   "metadata": {},
   "source": [
    "### Load Dataset"
   ]
  },
  {
   "cell_type": "code",
   "execution_count": 9,
   "metadata": {},
   "outputs": [],
   "source": [
    "files = glob('../data/Subtitles/*.ass')"
   ]
  },
  {
   "cell_type": "code",
   "execution_count": 10,
   "metadata": {},
   "outputs": [
    {
     "data": {
      "text/plain": [
       "['../data/Subtitles/Naruto Season 7 - 164.ass',\n",
       " '../data/Subtitles/Naruto Season 7 - 166.ass',\n",
       " '../data/Subtitles/Naruto Season 8 - 205.ass',\n",
       " '../data/Subtitles/Naruto Season 9 - 220.ass',\n",
       " '../data/Subtitles/Naruto Season 1 - 06.ass']"
      ]
     },
     "execution_count": 10,
     "metadata": {},
     "output_type": "execute_result"
    }
   ],
   "source": [
    "files[:5]"
   ]
  },
  {
   "cell_type": "code",
   "execution_count": 11,
   "metadata": {},
   "outputs": [],
   "source": [
    "with open(files[0], 'r') as file:\n",
    "    lines = file.readlines()\n",
    "    lines = lines[27:]\n",
    "    lines = [\",\".join(line.split(\",\")[9:]) for line in lines]"
   ]
  },
  {
   "cell_type": "code",
   "execution_count": 12,
   "metadata": {},
   "outputs": [
    {
     "data": {
      "text/plain": [
       "['I want to try and gather\\\\Nthe unrestrained winds\\n',\n",
       " 'I’ll run toward the horizon,\\\\Nalongside the wave crests\\n']"
      ]
     },
     "execution_count": 12,
     "metadata": {},
     "output_type": "execute_result"
    }
   ],
   "source": [
    "lines[:2]"
   ]
  },
  {
   "cell_type": "code",
   "execution_count": 13,
   "metadata": {},
   "outputs": [],
   "source": [
    "lines = [line.replace('\\\\N', ' ') for line in lines]"
   ]
  },
  {
   "cell_type": "code",
   "execution_count": 14,
   "metadata": {},
   "outputs": [
    {
     "data": {
      "text/plain": [
       "['I want to try and gather the unrestrained winds\\n',\n",
       " 'I’ll run toward the horizon, alongside the wave crests\\n']"
      ]
     },
     "execution_count": 14,
     "metadata": {},
     "output_type": "execute_result"
    }
   ],
   "source": [
    "lines[:2]"
   ]
  },
  {
   "cell_type": "code",
   "execution_count": 15,
   "metadata": {},
   "outputs": [
    {
     "data": {
      "text/plain": [
       "'I want to try and gather the unrestrained winds\\n I’ll run toward the horizon, alongside the wave crests\\n I’ve made my decision,\\n even if there’s a long way to go on that road.\\n I’ll continue towards the future I’ve planned\\n Time rushes us The heartbeat speeds up\\n When I woke in the middle of a dream I kept searching for that same light\\n Under the shining star-lit sky with countless constellations and shadows\\n There was something beyond that… What were you gazing at?\\n What were you gazing at?\\n'"
      ]
     },
     "execution_count": 15,
     "metadata": {},
     "output_type": "execute_result"
    }
   ],
   "source": [
    "\" \".join(lines[:10])"
   ]
  },
  {
   "cell_type": "code",
   "execution_count": 16,
   "metadata": {},
   "outputs": [
    {
     "data": {
      "text/plain": [
       "164"
      ]
     },
     "execution_count": 16,
     "metadata": {},
     "output_type": "execute_result"
    }
   ],
   "source": [
    "int(files[0].split(\"-\")[-1].split(\".\")[0].strip())"
   ]
  },
  {
   "cell_type": "code",
   "execution_count": 17,
   "metadata": {},
   "outputs": [],
   "source": [
    "def load_subtitles_dataset(dataset_path):\n",
    "    subtitles_paths = glob(dataset_path + '/*.ass')\n",
    "\n",
    "    scripts = []\n",
    "    episode_num = []\n",
    "\n",
    "    for path in subtitles_paths:\n",
    "        # Read lines\n",
    "        with open(path, 'r') as file:\n",
    "            lines = file.readlines()\n",
    "            lines = lines[27:]\n",
    "            lines = [\",\".join(line.split(',')[9:]) for line in lines]\n",
    "\n",
    "        lines = [line.replace('\\\\N', ' ') for line in lines]\n",
    "        script = ' '.join(lines)\n",
    "\n",
    "        episode = int(path.split('-')[-1].split('.')[0].strip())\n",
    "\n",
    "        scripts.append(script)\n",
    "        episode_num.append(episode)\n",
    "\n",
    "    df = pd.DataFrame.from_dict({\"episode\": episode_num, \"script\" : scripts})\n",
    "    return df"
   ]
  },
  {
   "cell_type": "code",
   "execution_count": 18,
   "metadata": {},
   "outputs": [],
   "source": [
    "dataset_path = '../data/Subtitles'\n",
    "df = load_subtitles_dataset(dataset_path)"
   ]
  },
  {
   "cell_type": "code",
   "execution_count": 19,
   "metadata": {},
   "outputs": [
    {
     "data": {
      "text/html": [
       "<div>\n",
       "<style scoped>\n",
       "    .dataframe tbody tr th:only-of-type {\n",
       "        vertical-align: middle;\n",
       "    }\n",
       "\n",
       "    .dataframe tbody tr th {\n",
       "        vertical-align: top;\n",
       "    }\n",
       "\n",
       "    .dataframe thead th {\n",
       "        text-align: right;\n",
       "    }\n",
       "</style>\n",
       "<table border=\"1\" class=\"dataframe\">\n",
       "  <thead>\n",
       "    <tr style=\"text-align: right;\">\n",
       "      <th></th>\n",
       "      <th>episode</th>\n",
       "      <th>script</th>\n",
       "    </tr>\n",
       "  </thead>\n",
       "  <tbody>\n",
       "    <tr>\n",
       "      <th>0</th>\n",
       "      <td>164</td>\n",
       "      <td>I want to try and gather the unrestrained wind...</td>\n",
       "    </tr>\n",
       "    <tr>\n",
       "      <th>1</th>\n",
       "      <td>166</td>\n",
       "      <td>I want to try and gather the unrestrained wind...</td>\n",
       "    </tr>\n",
       "    <tr>\n",
       "      <th>2</th>\n",
       "      <td>205</td>\n",
       "      <td>Fly into the wavy and twisted sky, into your h...</td>\n",
       "    </tr>\n",
       "    <tr>\n",
       "      <th>3</th>\n",
       "      <td>220</td>\n",
       "      <td>So this is the Shukaku?\\n It’s the first time ...</td>\n",
       "    </tr>\n",
       "    <tr>\n",
       "      <th>4</th>\n",
       "      <td>6</td>\n",
       "      <td>C'mon!\\n Running like a fugitive,\\n Being chas...</td>\n",
       "    </tr>\n",
       "    <tr>\n",
       "      <th>...</th>\n",
       "      <td>...</td>\n",
       "      <td>...</td>\n",
       "    </tr>\n",
       "    <tr>\n",
       "      <th>213</th>\n",
       "      <td>23</td>\n",
       "      <td>C'mon!\\n Running like a fugitive,\\n Being chas...</td>\n",
       "    </tr>\n",
       "    <tr>\n",
       "      <th>214</th>\n",
       "      <td>31</td>\n",
       "      <td>Press down hard on the gas\\n That’s right, the...</td>\n",
       "    </tr>\n",
       "    <tr>\n",
       "      <th>215</th>\n",
       "      <td>61</td>\n",
       "      <td>Yeah, turn your sadness into kindness, your un...</td>\n",
       "    </tr>\n",
       "    <tr>\n",
       "      <th>216</th>\n",
       "      <td>50</td>\n",
       "      <td>Press down hard on the gas\\n That’s right, the...</td>\n",
       "    </tr>\n",
       "    <tr>\n",
       "      <th>217</th>\n",
       "      <td>62</td>\n",
       "      <td>Yeah, turn your sadness into kindness, your un...</td>\n",
       "    </tr>\n",
       "  </tbody>\n",
       "</table>\n",
       "<p>218 rows × 2 columns</p>\n",
       "</div>"
      ],
      "text/plain": [
       "     episode                                             script\n",
       "0        164  I want to try and gather the unrestrained wind...\n",
       "1        166  I want to try and gather the unrestrained wind...\n",
       "2        205  Fly into the wavy and twisted sky, into your h...\n",
       "3        220  So this is the Shukaku?\\n It’s the first time ...\n",
       "4          6  C'mon!\\n Running like a fugitive,\\n Being chas...\n",
       "..       ...                                                ...\n",
       "213       23  C'mon!\\n Running like a fugitive,\\n Being chas...\n",
       "214       31  Press down hard on the gas\\n That’s right, the...\n",
       "215       61  Yeah, turn your sadness into kindness, your un...\n",
       "216       50  Press down hard on the gas\\n That’s right, the...\n",
       "217       62  Yeah, turn your sadness into kindness, your un...\n",
       "\n",
       "[218 rows x 2 columns]"
      ]
     },
     "execution_count": 19,
     "metadata": {},
     "output_type": "execute_result"
    }
   ],
   "source": [
    "df"
   ]
  },
  {
   "cell_type": "markdown",
   "metadata": {},
   "source": [
    "### Run Model"
   ]
  },
  {
   "cell_type": "code",
   "execution_count": 20,
   "metadata": {},
   "outputs": [],
   "source": [
    "script = df.iloc[0]['script']"
   ]
  },
  {
   "cell_type": "code",
   "execution_count": 21,
   "metadata": {},
   "outputs": [
    {
     "data": {
      "text/plain": [
       "\"I want to try and gather the unrestrained winds\\n I’ll run toward the horizon, alongside the wave crests\\n I’ve made my decision,\\n even if there’s a long way to go on that road.\\n I’ll continue towards the future I’ve planned\\n Time rushes us The heartbeat speeds up\\n When I woke in the middle of a dream I kept searching for that same light\\n Under the shining star-lit sky with countless constellations and shadows\\n There was something beyond that… What were you gazing at?\\n What were you gazing at?\\n Too Late for Help\\n You guys did good work. Komei has confessed.\\n It seems he plotted the Cursed Warrior…\\n to mislead the public and to take the feudal lord position.\\n Is that what Komei said?\\n Yes. It turned out to be such a trifle.\\n The Cursed Warrior vanishing\\n was a soldier disguising himself as the Warrior\\n using a strong nitrohydrochloric acid to melt his own flesh.\\n It's empty again.\\n With this, the Cursed Warrior incident is resolved.\\n Now the Land of Birds should return\\n to the beautiful and quiet land it used to be.\\n Just a minute!\\n But the Cursed Warrior still isn’t…!\\n Don’t bother.\\n But…!\\n Now you are relieved of your duty.\\n Have a safe journey back to your village…\\n Why?!\\n You said the one we saw first\\n and the one last night were different, right?\\n Perhaps there were multiple people disguised as the Cursed Warrior,\\n not just one alone.\\n If there was a person inside disguised,\\n then how do you explain the Warrior flying?!\\n As long as our mission has been ordered complete,\\n there’s no reason to continue the mission in this land now.\\n Besides, Komei confessed to the crime, right?\\n But, it’s suspicious!\\n I can’t go along with it if I don’t get the whole story!\\n This land has its own circumstances.\\n Getting too involved will cause trouble.\\n Humph!\\n Then I’ll just have to do it my way.\\n Hold it.\\n I’m the leader of this team.\\n So what?!\\n You look into the movements of the Cursed Warrior once more.\\n Tenten and I will reinvestigate this incident from a different angle.\\n What? But the mission’s over…\\n You have a point with what you said.\\n Everything is moving along too swimmingly.\\n All right! Leave it to me.\\n Huh?\\n Where are you going, Naruto?\\n Isn’t it obvious? To investigate the Cursed Warrior!\\n What?\\n Oh, Chishima.\\n Um, Naruto just now…\\n It’s nothing, it’s nothing.\\n Did you have business with us?\\n Oh, yes.\\n You have all been so helpful to me the whole time…\\n I feel so bad about that low payment…\\n Additional money?\\n We couldn’t…\\n No, it’s the specialty of the Land of Birds,\\n chicken wing buns filled with bean jam.\\n Yakitori Tsurucho\\n Thanks!\\n Sure enough, this area’s fishy, believe it.\\n It’s kind of time-consuming searching alone…\\n Summoning Jutsu!\\n Ahh, long time no see. Are you giving me a snack?\\n Why is it you guys?!\\n Dad’s busy with stuff, so.\\n No, I can’t have Boss Gama appearing, either…\\n Well, I guess it can’t be helped.\\n You guys have a better sense of smell than humans, right?\\n You’re calling us puppies?!\\n Geez! Toad authority has sure hit rock bottom!\\n Gamatatsu, we’re leaving!\\n Gamatatsu?\\n Hey, Gamatatsu!\\n A frog that pounces on a willow leaf?\\n What’re you doing, you idiot?!\\n Big Brother Gamakichi…\\n I wonder what…this is?\\n Whoa, it’s dark. lt’s night.\\n Good night.\\n Good morning.\\n What’s this?\\n It’s a kite painted black.\\n A kite?\\n Look up there!\\n That’s a totally huge kite, believe it.\\n I wonder if there was a big kite-flying festival or something.\\n It’s rather plain for a festival kite…\\n What?! What does that mean?\\n Oh no!\\n Hey! Where are you going?!\\n I’m back.\\n I get it… If one were to fly that in the cover of a dark night…\\n A Cursed Warrior hanging onto the black kite\\n would look like he was flying…\\n With this, the mystery of the flying warrior is solved, believe it!\\n Next…\\n Someone was here on that night…\\n What is it?\\n The Cursed Warrior came out from here.\\n It just looks like an old temple that isn’t used much at all.\\n You’re right.\\n Let’s go, Gamatatsu!\\n But Big Brother Gamakichi, it’s nice and cool here.\\n What’re you talking about?! ln such a hot and humid temple…\\n Indeed, that’s a nice damp wind.\\n See? Isn’t it comfortable?\\n Draft from down below here…?\\n What’s this?\\n Wow! I wonder if a giant worm made this.\\n Or a mole?\\n All right, let’s check it out.\\n I wonder how we should greet a mole if we were to meet one.\\n Like I care!\\n So Naruto is still investigating the Cursed Warrior, huh?\\n I should probably inform Lord Moso.\\n There was some trouble caused,\\n but we have at last found a safe refuge.\\n After him!\\n Big Brother, where are we?\\n Huh?! This place is…\\n This is the residence of the feudal lord, isn’t it?\\n Really? Residence of the feudal lord?\\n No wonder it’s an impressive building.\\n It was connected to this place?\\n What was that sound?\\n Oh! What a nice view.\\n Hey! What're  you doing?!\\n Shh! Keep quiet! We’ll be discovered.\\n Big Brother Gamakichi!\\n Uh, oh!\\n You blockhead!\\n Uh, umm… Good work with your duties!\\n As for me, I’m not anyone suspicious!\\n I was asked by the Superintendent Moso and\\n I’m investigating the incident…\\n It’ll make sense if I tell you about it!\\n Oww!\\n Lord Sagi! We have captured a suspicious man.\\n What shall we do with him?\\n What…? Oh!\\n Oh. Sagi, bro! Hey! We met at the lake, didn’t we?\\n Explain to them about me!\\n I know no such person.\\n What?!\\n He’s not worth sending to the magistrate’s office.\\n Lock him in the dungeon.\\n Yes, my lord!\\n Hey, that’s harsh! Come on, Sagi!\\n Hey! Wait a minute! Come on, hey!\\n Come on. This is a misunderstanding!\\n I was just going after the Cursed Warrior!\\n Umm, everything will make sense if you just ask Mr. Moso.\\n You okay?\\n Yo!\\n I can’t be fighting the soldiers of my employer’s land.\\n Geez. You had to go and get caught in that trap!\\n Well, it’s cool. I can get out of a place like this right away\\n if I just use both my hands.\\n Hey, untie this.\\n Right. Just a second.\\n Wha--?!\\n Th-The Cursed Warrior…?!\\n Damn it!\\n If I could just use both hands, this guy would be…!\\n Big Brother, are we going to let things be?\\n If things go wrong, we’d be sliced in two.\\n I wouldn’t want that.\\n Just a little more…\\n Just a little more…!\\n Sagi?!\\n What’s going on here?\\n You’re the other Cursed Warrior?\\n But, why?\\n They say people become disembodied spirits and avenge themselves…\\n But that’s a lie!\\n This watch has been handed down from generation to generation\\n in the feudal lord family.\\n It was supposed to be passed from father to son…\\n But now along with that death, the watch has stopped ticking away.\\n It must have been very sad…\\n I am shamelessly living on only for the sake of revenge!\\n I can go to hell if I can just complete my revenge!\\n That’s no good!\\n There is no way you could understand\\n how someone who has had everything taken away from them feels!\\n Like I know about stuff like that!\\n But I, at least, know that living for the sake of revenge is wrong!\\n You’re a feudal lord, aren’t you?\\n Is revenge the job of a feudal lord?\\n You know that’s not it.\\n The true culprit Komei has been arrested.\\n You should just leave the rest to Moso. Okay?\\n It is no concern of yours…\\n I must not let you live\\n now that you have learned everything!\\n As the thief who snuck into the residence of the feudal lord…\\n your fate is a death sentence!\\n No way…!\\n This is creepy…\\n This is the tomb of the successive generations of feudal lords, right?\\n Yeah.\\n That’s the tomb of the Lord Owashi…\\n Byakugan!\\n What’s this?\\n What is it, Neji? What are you seeing?!\\n There’s something poisonous in Owashi’s body.\\n Was he assassinated…?!\\n We’re surrounded.\\n An announcement to the Ninja from the Leaf Village.\\n A message has just now been delivered\\n from the residence of the feudal lord!\\n Your comrade has been arrested for infiltrating…\\n the residence of the feudal lord…\\n and his death sentence has been determined!\\n Leave the Land of Birds at once!\\n If you don’t, you will be executed here for the same crime.\\n It doesn’t matter! Draw your bows!\\n Neji, what should we do?\\n Let’s go to the residence of the feudal lord.\\n We’re going to save Naruto!\\n You’re…\\n Kakashi Sensei! Naruto’s in trouble!\\n We have to go to the residence of the feudal lord immediately\\n and save him…\\n We can’t do that.\\n Your mission is over.\\n But!\\n Don’t do anything other than the mission.\\n So many things happen on this endless road, huh?\\n Although you’re strong-willed, your voice wavered on the phone today\\n What dreams did you chase to get here?\\n Even I have times when I just don’t understand, baby\\n When you’re sad, I’ll be close to you\\n Even on nights when we’re apart, I’ll be close to you\\n I’ll be close to you\\n Are we really going back to the village like this?\\n I told you. Our mission in the Land of Birds is finished now.\\n But then, what’ll happen to Naruto?\\n We can’t interfere with this land’s internal affairs.\\n No way…\\n Sorry. The responsibility rests on me, the leader.\\n Let it go… Sacrifice is a part of Shinobi missions.\\n Next time: “The Death of Naruto.”\\n\""
      ]
     },
     "execution_count": 21,
     "metadata": {},
     "output_type": "execute_result"
    }
   ],
   "source": [
    "script"
   ]
  },
  {
   "cell_type": "code",
   "execution_count": 22,
   "metadata": {},
   "outputs": [
    {
     "data": {
      "text/plain": [
       "['I want to try and gather the unrestrained winds\\n I’ll run toward the horizon, alongside the wave crests\\n I’ve made my decision,\\n even if there’s a long way to go on that road.',\n",
       " 'I’ll continue towards the future I’ve planned\\n Time rushes us The heartbeat speeds up\\n When I woke in the middle of a dream I kept searching for that same light\\n Under the shining star-lit sky with countless constellations and shadows\\n There was something beyond that… What were you gazing at?',\n",
       " 'What were you gazing at?']"
      ]
     },
     "execution_count": 22,
     "metadata": {},
     "output_type": "execute_result"
    }
   ],
   "source": [
    "script_sentences = sent_tokenize(script)\n",
    "script_sentences[:3]"
   ]
  },
  {
   "cell_type": "code",
   "execution_count": 23,
   "metadata": {},
   "outputs": [],
   "source": [
    "# Batch sentences\n",
    "sentence_batch_size = 20\n",
    "script_batches = []\n",
    "for index in range(0, len(script_sentences), sentence_batch_size):\n",
    "    sent = ' '.join(script_sentences[index:index+sentence_batch_size])\n",
    "    script_batches.append(sent)"
   ]
  },
  {
   "cell_type": "code",
   "execution_count": 24,
   "metadata": {},
   "outputs": [
    {
     "data": {
      "text/plain": [
       "[\"I want to try and gather the unrestrained winds\\n I’ll run toward the horizon, alongside the wave crests\\n I’ve made my decision,\\n even if there’s a long way to go on that road. I’ll continue towards the future I’ve planned\\n Time rushes us The heartbeat speeds up\\n When I woke in the middle of a dream I kept searching for that same light\\n Under the shining star-lit sky with countless constellations and shadows\\n There was something beyond that… What were you gazing at? What were you gazing at? Too Late for Help\\n You guys did good work. Komei has confessed. It seems he plotted the Cursed Warrior…\\n to mislead the public and to take the feudal lord position. Is that what Komei said? Yes. It turned out to be such a trifle. The Cursed Warrior vanishing\\n was a soldier disguising himself as the Warrior\\n using a strong nitrohydrochloric acid to melt his own flesh. It's empty again. With this, the Cursed Warrior incident is resolved. Now the Land of Birds should return\\n to the beautiful and quiet land it used to be. Just a minute! But the Cursed Warrior still isn’t…! Don’t bother. But…! Now you are relieved of your duty. Have a safe journey back to your village…\\n Why?! You said the one we saw first\\n and the one last night were different, right?\",\n",
       " 'Perhaps there were multiple people disguised as the Cursed Warrior,\\n not just one alone. If there was a person inside disguised,\\n then how do you explain the Warrior flying?! As long as our mission has been ordered complete,\\n there’s no reason to continue the mission in this land now. Besides, Komei confessed to the crime, right? But, it’s suspicious! I can’t go along with it if I don’t get the whole story! This land has its own circumstances. Getting too involved will cause trouble. Humph! Then I’ll just have to do it my way. Hold it. I’m the leader of this team. So what?! You look into the movements of the Cursed Warrior once more. Tenten and I will reinvestigate this incident from a different angle. What? But the mission’s over…\\n You have a point with what you said. Everything is moving along too swimmingly. All right! Leave it to me.']"
      ]
     },
     "execution_count": 24,
     "metadata": {},
     "output_type": "execute_result"
    }
   ],
   "source": [
    "script_batches[:2]"
   ]
  },
  {
   "cell_type": "code",
   "execution_count": 25,
   "metadata": {},
   "outputs": [],
   "source": [
    "theme_output = theme_classifier(\n",
    "    script_batches[:2],\n",
    "    theme_list,\n",
    "    multi_label=True\n",
    ")"
   ]
  },
  {
   "cell_type": "code",
   "execution_count": 26,
   "metadata": {},
   "outputs": [
    {
     "data": {
      "text/plain": [
       "[{'sequence': \"I want to try and gather the unrestrained winds\\n I’ll run toward the horizon, alongside the wave crests\\n I’ve made my decision,\\n even if there’s a long way to go on that road. I’ll continue towards the future I’ve planned\\n Time rushes us The heartbeat speeds up\\n When I woke in the middle of a dream I kept searching for that same light\\n Under the shining star-lit sky with countless constellations and shadows\\n There was something beyond that… What were you gazing at? What were you gazing at? Too Late for Help\\n You guys did good work. Komei has confessed. It seems he plotted the Cursed Warrior…\\n to mislead the public and to take the feudal lord position. Is that what Komei said? Yes. It turned out to be such a trifle. The Cursed Warrior vanishing\\n was a soldier disguising himself as the Warrior\\n using a strong nitrohydrochloric acid to melt his own flesh. It's empty again. With this, the Cursed Warrior incident is resolved. Now the Land of Birds should return\\n to the beautiful and quiet land it used to be. Just a minute! But the Cursed Warrior still isn’t…! Don’t bother. But…! Now you are relieved of your duty. Have a safe journey back to your village…\\n Why?! You said the one we saw first\\n and the one last night were different, right?\",\n",
       "  'labels': ['dialogue',\n",
       "   'self development',\n",
       "   'sacrifice',\n",
       "   'betrayal',\n",
       "   'battle',\n",
       "   'friendship',\n",
       "   'hope',\n",
       "   'love'],\n",
       "  'scores': [0.9574995040893555,\n",
       "   0.9332636594772339,\n",
       "   0.8763844966888428,\n",
       "   0.8749498724937439,\n",
       "   0.5668096542358398,\n",
       "   0.46148452162742615,\n",
       "   0.4050653576850891,\n",
       "   0.3512488603591919]},\n",
       " {'sequence': 'Perhaps there were multiple people disguised as the Cursed Warrior,\\n not just one alone. If there was a person inside disguised,\\n then how do you explain the Warrior flying?! As long as our mission has been ordered complete,\\n there’s no reason to continue the mission in this land now. Besides, Komei confessed to the crime, right? But, it’s suspicious! I can’t go along with it if I don’t get the whole story! This land has its own circumstances. Getting too involved will cause trouble. Humph! Then I’ll just have to do it my way. Hold it. I’m the leader of this team. So what?! You look into the movements of the Cursed Warrior once more. Tenten and I will reinvestigate this incident from a different angle. What? But the mission’s over…\\n You have a point with what you said. Everything is moving along too swimmingly. All right! Leave it to me.',\n",
       "  'labels': ['dialogue',\n",
       "   'battle',\n",
       "   'self development',\n",
       "   'sacrifice',\n",
       "   'betrayal',\n",
       "   'hope',\n",
       "   'friendship',\n",
       "   'love'],\n",
       "  'scores': [0.8698680996894836,\n",
       "   0.62241131067276,\n",
       "   0.5439535975456238,\n",
       "   0.501981794834137,\n",
       "   0.36008065938949585,\n",
       "   0.25118502974510193,\n",
       "   0.19993099570274353,\n",
       "   0.12774109840393066]}]"
      ]
     },
     "execution_count": 26,
     "metadata": {},
     "output_type": "execute_result"
    }
   ],
   "source": [
    "theme_output"
   ]
  },
  {
   "cell_type": "code",
   "execution_count": 27,
   "metadata": {},
   "outputs": [],
   "source": [
    "# Wrangle output\n",
    "themes = {}\n",
    "for output in theme_output:\n",
    "    for label, score in zip(output['labels'], output['scores']):\n",
    "        if label not in themes:\n",
    "            themes[label] = []\n",
    "        themes[label].append(score)"
   ]
  },
  {
   "cell_type": "code",
   "execution_count": 28,
   "metadata": {},
   "outputs": [],
   "source": [
    "themes = {key: np.mean(np.array(value)) for key, value in themes.items()}"
   ]
  },
  {
   "cell_type": "code",
   "execution_count": 29,
   "metadata": {},
   "outputs": [
    {
     "data": {
      "text/plain": [
       "{'dialogue': np.float64(0.9136838018894196),\n",
       " 'self development': np.float64(0.7386086285114288),\n",
       " 'sacrifice': np.float64(0.6891831457614899),\n",
       " 'betrayal': np.float64(0.6175152659416199),\n",
       " 'battle': np.float64(0.5946104824542999),\n",
       " 'friendship': np.float64(0.33070775866508484),\n",
       " 'hope': np.float64(0.3281251937150955),\n",
       " 'love': np.float64(0.23949497938156128)}"
      ]
     },
     "execution_count": 29,
     "metadata": {},
     "output_type": "execute_result"
    }
   ],
   "source": [
    "themes"
   ]
  },
  {
   "cell_type": "code",
   "execution_count": 30,
   "metadata": {},
   "outputs": [],
   "source": [
    "def get_themes_inference(script):\n",
    "    script_sentences = sent_tokenize(script)\n",
    "\n",
    "    # Batch sentence\n",
    "    sentence_batch_size = 20\n",
    "    script_batches = []\n",
    "    for index in range(0, len(script_sentences), sentence_batch_size):\n",
    "        sent = ' '.join(script_sentences[index:index+sentence_batch_size])\n",
    "        script_batches.append(sent)\n",
    "\n",
    "    # Run model\n",
    "    theme_output = theme_classifier(\n",
    "        script_batches[:2],\n",
    "        theme_list,\n",
    "        multi_label=True\n",
    "    )\n",
    "\n",
    "    # Wrangle output\n",
    "    themes = {}\n",
    "    for output in theme_output:\n",
    "        for label, score in zip(output['labels'], output['scores']):\n",
    "            if label not in themes:\n",
    "                themes[label] = []\n",
    "            themes[label].append(score)\n",
    "\n",
    "    themes = {key: np.mean(np.array(value)) for key, value in themes.items()}\n",
    "\n",
    "    return themes"
   ]
  },
  {
   "cell_type": "code",
   "execution_count": 31,
   "metadata": {},
   "outputs": [],
   "source": [
    "df = df.head(2)"
   ]
  },
  {
   "cell_type": "code",
   "execution_count": 32,
   "metadata": {},
   "outputs": [
    {
     "data": {
      "text/html": [
       "<div>\n",
       "<style scoped>\n",
       "    .dataframe tbody tr th:only-of-type {\n",
       "        vertical-align: middle;\n",
       "    }\n",
       "\n",
       "    .dataframe tbody tr th {\n",
       "        vertical-align: top;\n",
       "    }\n",
       "\n",
       "    .dataframe thead th {\n",
       "        text-align: right;\n",
       "    }\n",
       "</style>\n",
       "<table border=\"1\" class=\"dataframe\">\n",
       "  <thead>\n",
       "    <tr style=\"text-align: right;\">\n",
       "      <th></th>\n",
       "      <th>episode</th>\n",
       "      <th>script</th>\n",
       "    </tr>\n",
       "  </thead>\n",
       "  <tbody>\n",
       "    <tr>\n",
       "      <th>0</th>\n",
       "      <td>164</td>\n",
       "      <td>I want to try and gather the unrestrained wind...</td>\n",
       "    </tr>\n",
       "    <tr>\n",
       "      <th>1</th>\n",
       "      <td>166</td>\n",
       "      <td>I want to try and gather the unrestrained wind...</td>\n",
       "    </tr>\n",
       "  </tbody>\n",
       "</table>\n",
       "</div>"
      ],
      "text/plain": [
       "   episode                                             script\n",
       "0      164  I want to try and gather the unrestrained wind...\n",
       "1      166  I want to try and gather the unrestrained wind..."
      ]
     },
     "execution_count": 32,
     "metadata": {},
     "output_type": "execute_result"
    }
   ],
   "source": [
    "df"
   ]
  },
  {
   "cell_type": "code",
   "execution_count": 33,
   "metadata": {},
   "outputs": [],
   "source": [
    "output_themes = df['script'].apply(get_themes_inference)"
   ]
  },
  {
   "cell_type": "code",
   "execution_count": 34,
   "metadata": {},
   "outputs": [
    {
     "data": {
      "text/plain": [
       "0    {'dialogue': 0.9136838018894196, 'self develop...\n",
       "1    {'dialogue': 0.9433566629886627, 'sacrifice': ...\n",
       "Name: script, dtype: object"
      ]
     },
     "execution_count": 34,
     "metadata": {},
     "output_type": "execute_result"
    }
   ],
   "source": [
    "output_themes"
   ]
  },
  {
   "cell_type": "code",
   "execution_count": 35,
   "metadata": {},
   "outputs": [],
   "source": [
    "theme_df = pd.DataFrame(output_themes.tolist())"
   ]
  },
  {
   "cell_type": "code",
   "execution_count": 36,
   "metadata": {},
   "outputs": [
    {
     "data": {
      "text/html": [
       "<div>\n",
       "<style scoped>\n",
       "    .dataframe tbody tr th:only-of-type {\n",
       "        vertical-align: middle;\n",
       "    }\n",
       "\n",
       "    .dataframe tbody tr th {\n",
       "        vertical-align: top;\n",
       "    }\n",
       "\n",
       "    .dataframe thead th {\n",
       "        text-align: right;\n",
       "    }\n",
       "</style>\n",
       "<table border=\"1\" class=\"dataframe\">\n",
       "  <thead>\n",
       "    <tr style=\"text-align: right;\">\n",
       "      <th></th>\n",
       "      <th>dialogue</th>\n",
       "      <th>self development</th>\n",
       "      <th>sacrifice</th>\n",
       "      <th>betrayal</th>\n",
       "      <th>battle</th>\n",
       "      <th>friendship</th>\n",
       "      <th>hope</th>\n",
       "      <th>love</th>\n",
       "    </tr>\n",
       "  </thead>\n",
       "  <tbody>\n",
       "    <tr>\n",
       "      <th>0</th>\n",
       "      <td>0.913684</td>\n",
       "      <td>0.738609</td>\n",
       "      <td>0.689183</td>\n",
       "      <td>0.617515</td>\n",
       "      <td>0.594610</td>\n",
       "      <td>0.330708</td>\n",
       "      <td>0.328125</td>\n",
       "      <td>0.239495</td>\n",
       "    </tr>\n",
       "    <tr>\n",
       "      <th>1</th>\n",
       "      <td>0.943357</td>\n",
       "      <td>0.799818</td>\n",
       "      <td>0.851309</td>\n",
       "      <td>0.854155</td>\n",
       "      <td>0.822055</td>\n",
       "      <td>0.209874</td>\n",
       "      <td>0.387782</td>\n",
       "      <td>0.104536</td>\n",
       "    </tr>\n",
       "  </tbody>\n",
       "</table>\n",
       "</div>"
      ],
      "text/plain": [
       "   dialogue  self development  sacrifice  betrayal    battle  friendship  \\\n",
       "0  0.913684          0.738609   0.689183  0.617515  0.594610    0.330708   \n",
       "1  0.943357          0.799818   0.851309  0.854155  0.822055    0.209874   \n",
       "\n",
       "       hope      love  \n",
       "0  0.328125  0.239495  \n",
       "1  0.387782  0.104536  "
      ]
     },
     "execution_count": 36,
     "metadata": {},
     "output_type": "execute_result"
    }
   ],
   "source": [
    "theme_df"
   ]
  },
  {
   "cell_type": "code",
   "execution_count": 37,
   "metadata": {},
   "outputs": [
    {
     "data": {
      "text/html": [
       "<div>\n",
       "<style scoped>\n",
       "    .dataframe tbody tr th:only-of-type {\n",
       "        vertical-align: middle;\n",
       "    }\n",
       "\n",
       "    .dataframe tbody tr th {\n",
       "        vertical-align: top;\n",
       "    }\n",
       "\n",
       "    .dataframe thead th {\n",
       "        text-align: right;\n",
       "    }\n",
       "</style>\n",
       "<table border=\"1\" class=\"dataframe\">\n",
       "  <thead>\n",
       "    <tr style=\"text-align: right;\">\n",
       "      <th></th>\n",
       "      <th>episode</th>\n",
       "      <th>script</th>\n",
       "    </tr>\n",
       "  </thead>\n",
       "  <tbody>\n",
       "    <tr>\n",
       "      <th>0</th>\n",
       "      <td>164</td>\n",
       "      <td>I want to try and gather the unrestrained wind...</td>\n",
       "    </tr>\n",
       "    <tr>\n",
       "      <th>1</th>\n",
       "      <td>166</td>\n",
       "      <td>I want to try and gather the unrestrained wind...</td>\n",
       "    </tr>\n",
       "  </tbody>\n",
       "</table>\n",
       "</div>"
      ],
      "text/plain": [
       "   episode                                             script\n",
       "0      164  I want to try and gather the unrestrained wind...\n",
       "1      166  I want to try and gather the unrestrained wind..."
      ]
     },
     "execution_count": 37,
     "metadata": {},
     "output_type": "execute_result"
    }
   ],
   "source": [
    "df"
   ]
  },
  {
   "cell_type": "code",
   "execution_count": 38,
   "metadata": {},
   "outputs": [
    {
     "name": "stderr",
     "output_type": "stream",
     "text": [
      "/tmp/ipykernel_16348/949782271.py:1: SettingWithCopyWarning: \n",
      "A value is trying to be set on a copy of a slice from a DataFrame.\n",
      "Try using .loc[row_indexer,col_indexer] = value instead\n",
      "\n",
      "See the caveats in the documentation: https://pandas.pydata.org/pandas-docs/stable/user_guide/indexing.html#returning-a-view-versus-a-copy\n",
      "  df[theme_df.columns] = theme_df\n",
      "/tmp/ipykernel_16348/949782271.py:1: SettingWithCopyWarning: \n",
      "A value is trying to be set on a copy of a slice from a DataFrame.\n",
      "Try using .loc[row_indexer,col_indexer] = value instead\n",
      "\n",
      "See the caveats in the documentation: https://pandas.pydata.org/pandas-docs/stable/user_guide/indexing.html#returning-a-view-versus-a-copy\n",
      "  df[theme_df.columns] = theme_df\n",
      "/tmp/ipykernel_16348/949782271.py:1: SettingWithCopyWarning: \n",
      "A value is trying to be set on a copy of a slice from a DataFrame.\n",
      "Try using .loc[row_indexer,col_indexer] = value instead\n",
      "\n",
      "See the caveats in the documentation: https://pandas.pydata.org/pandas-docs/stable/user_guide/indexing.html#returning-a-view-versus-a-copy\n",
      "  df[theme_df.columns] = theme_df\n",
      "/tmp/ipykernel_16348/949782271.py:1: SettingWithCopyWarning: \n",
      "A value is trying to be set on a copy of a slice from a DataFrame.\n",
      "Try using .loc[row_indexer,col_indexer] = value instead\n",
      "\n",
      "See the caveats in the documentation: https://pandas.pydata.org/pandas-docs/stable/user_guide/indexing.html#returning-a-view-versus-a-copy\n",
      "  df[theme_df.columns] = theme_df\n",
      "/tmp/ipykernel_16348/949782271.py:1: SettingWithCopyWarning: \n",
      "A value is trying to be set on a copy of a slice from a DataFrame.\n",
      "Try using .loc[row_indexer,col_indexer] = value instead\n",
      "\n",
      "See the caveats in the documentation: https://pandas.pydata.org/pandas-docs/stable/user_guide/indexing.html#returning-a-view-versus-a-copy\n",
      "  df[theme_df.columns] = theme_df\n",
      "/tmp/ipykernel_16348/949782271.py:1: SettingWithCopyWarning: \n",
      "A value is trying to be set on a copy of a slice from a DataFrame.\n",
      "Try using .loc[row_indexer,col_indexer] = value instead\n",
      "\n",
      "See the caveats in the documentation: https://pandas.pydata.org/pandas-docs/stable/user_guide/indexing.html#returning-a-view-versus-a-copy\n",
      "  df[theme_df.columns] = theme_df\n",
      "/tmp/ipykernel_16348/949782271.py:1: SettingWithCopyWarning: \n",
      "A value is trying to be set on a copy of a slice from a DataFrame.\n",
      "Try using .loc[row_indexer,col_indexer] = value instead\n",
      "\n",
      "See the caveats in the documentation: https://pandas.pydata.org/pandas-docs/stable/user_guide/indexing.html#returning-a-view-versus-a-copy\n",
      "  df[theme_df.columns] = theme_df\n",
      "/tmp/ipykernel_16348/949782271.py:1: SettingWithCopyWarning: \n",
      "A value is trying to be set on a copy of a slice from a DataFrame.\n",
      "Try using .loc[row_indexer,col_indexer] = value instead\n",
      "\n",
      "See the caveats in the documentation: https://pandas.pydata.org/pandas-docs/stable/user_guide/indexing.html#returning-a-view-versus-a-copy\n",
      "  df[theme_df.columns] = theme_df\n"
     ]
    }
   ],
   "source": [
    "df[theme_df.columns] = theme_df"
   ]
  },
  {
   "cell_type": "code",
   "execution_count": 39,
   "metadata": {},
   "outputs": [
    {
     "data": {
      "text/html": [
       "<div>\n",
       "<style scoped>\n",
       "    .dataframe tbody tr th:only-of-type {\n",
       "        vertical-align: middle;\n",
       "    }\n",
       "\n",
       "    .dataframe tbody tr th {\n",
       "        vertical-align: top;\n",
       "    }\n",
       "\n",
       "    .dataframe thead th {\n",
       "        text-align: right;\n",
       "    }\n",
       "</style>\n",
       "<table border=\"1\" class=\"dataframe\">\n",
       "  <thead>\n",
       "    <tr style=\"text-align: right;\">\n",
       "      <th></th>\n",
       "      <th>episode</th>\n",
       "      <th>script</th>\n",
       "      <th>dialogue</th>\n",
       "      <th>self development</th>\n",
       "      <th>sacrifice</th>\n",
       "      <th>betrayal</th>\n",
       "      <th>battle</th>\n",
       "      <th>friendship</th>\n",
       "      <th>hope</th>\n",
       "      <th>love</th>\n",
       "    </tr>\n",
       "  </thead>\n",
       "  <tbody>\n",
       "    <tr>\n",
       "      <th>0</th>\n",
       "      <td>164</td>\n",
       "      <td>I want to try and gather the unrestrained wind...</td>\n",
       "      <td>0.913684</td>\n",
       "      <td>0.738609</td>\n",
       "      <td>0.689183</td>\n",
       "      <td>0.617515</td>\n",
       "      <td>0.594610</td>\n",
       "      <td>0.330708</td>\n",
       "      <td>0.328125</td>\n",
       "      <td>0.239495</td>\n",
       "    </tr>\n",
       "    <tr>\n",
       "      <th>1</th>\n",
       "      <td>166</td>\n",
       "      <td>I want to try and gather the unrestrained wind...</td>\n",
       "      <td>0.943357</td>\n",
       "      <td>0.799818</td>\n",
       "      <td>0.851309</td>\n",
       "      <td>0.854155</td>\n",
       "      <td>0.822055</td>\n",
       "      <td>0.209874</td>\n",
       "      <td>0.387782</td>\n",
       "      <td>0.104536</td>\n",
       "    </tr>\n",
       "  </tbody>\n",
       "</table>\n",
       "</div>"
      ],
      "text/plain": [
       "   episode                                             script  dialogue  \\\n",
       "0      164  I want to try and gather the unrestrained wind...  0.913684   \n",
       "1      166  I want to try and gather the unrestrained wind...  0.943357   \n",
       "\n",
       "   self development  sacrifice  betrayal    battle  friendship      hope  \\\n",
       "0          0.738609   0.689183  0.617515  0.594610    0.330708  0.328125   \n",
       "1          0.799818   0.851309  0.854155  0.822055    0.209874  0.387782   \n",
       "\n",
       "       love  \n",
       "0  0.239495  \n",
       "1  0.104536  "
      ]
     },
     "execution_count": 39,
     "metadata": {},
     "output_type": "execute_result"
    }
   ],
   "source": [
    "df"
   ]
  },
  {
   "cell_type": "markdown",
   "metadata": {},
   "source": [
    "### Visualize output"
   ]
  },
  {
   "cell_type": "code",
   "execution_count": 40,
   "metadata": {},
   "outputs": [],
   "source": [
    "df = df.drop('dialogue', axis=1)"
   ]
  },
  {
   "cell_type": "code",
   "execution_count": 41,
   "metadata": {},
   "outputs": [
    {
     "data": {
      "text/html": [
       "<div>\n",
       "<style scoped>\n",
       "    .dataframe tbody tr th:only-of-type {\n",
       "        vertical-align: middle;\n",
       "    }\n",
       "\n",
       "    .dataframe tbody tr th {\n",
       "        vertical-align: top;\n",
       "    }\n",
       "\n",
       "    .dataframe thead th {\n",
       "        text-align: right;\n",
       "    }\n",
       "</style>\n",
       "<table border=\"1\" class=\"dataframe\">\n",
       "  <thead>\n",
       "    <tr style=\"text-align: right;\">\n",
       "      <th></th>\n",
       "      <th>theme</th>\n",
       "      <th>score</th>\n",
       "    </tr>\n",
       "  </thead>\n",
       "  <tbody>\n",
       "    <tr>\n",
       "      <th>0</th>\n",
       "      <td>self development</td>\n",
       "      <td>1.538427</td>\n",
       "    </tr>\n",
       "    <tr>\n",
       "      <th>1</th>\n",
       "      <td>sacrifice</td>\n",
       "      <td>1.540492</td>\n",
       "    </tr>\n",
       "    <tr>\n",
       "      <th>2</th>\n",
       "      <td>betrayal</td>\n",
       "      <td>1.471670</td>\n",
       "    </tr>\n",
       "    <tr>\n",
       "      <th>3</th>\n",
       "      <td>battle</td>\n",
       "      <td>1.416666</td>\n",
       "    </tr>\n",
       "    <tr>\n",
       "      <th>4</th>\n",
       "      <td>friendship</td>\n",
       "      <td>0.540582</td>\n",
       "    </tr>\n",
       "    <tr>\n",
       "      <th>5</th>\n",
       "      <td>hope</td>\n",
       "      <td>0.715907</td>\n",
       "    </tr>\n",
       "    <tr>\n",
       "      <th>6</th>\n",
       "      <td>love</td>\n",
       "      <td>0.344031</td>\n",
       "    </tr>\n",
       "  </tbody>\n",
       "</table>\n",
       "</div>"
      ],
      "text/plain": [
       "              theme     score\n",
       "0  self development  1.538427\n",
       "1         sacrifice  1.540492\n",
       "2          betrayal  1.471670\n",
       "3            battle  1.416666\n",
       "4        friendship  0.540582\n",
       "5              hope  0.715907\n",
       "6              love  0.344031"
      ]
     },
     "execution_count": 41,
     "metadata": {},
     "output_type": "execute_result"
    }
   ],
   "source": [
    "theme_output = df.drop(['episode', 'script'], axis=1).sum().reset_index()\n",
    "theme_output.columns = ['theme', 'score']\n",
    "theme_output"
   ]
  },
  {
   "cell_type": "code",
   "execution_count": 45,
   "metadata": {},
   "outputs": [],
   "source": [
    "import matplotlib.pyplot as plt\n",
    "import seaborn as sns"
   ]
  },
  {
   "cell_type": "code",
   "execution_count": 46,
   "metadata": {},
   "outputs": [
    {
     "data": {
      "image/png": "[encoded data removed]",
      "text/plain": [
       "<Figure size 640x480 with 1 Axes>"
      ]
     },
     "metadata": {},
     "output_type": "display_data"
    }
   ],
   "source": [
    "sns.barplot(data=theme_output, x='theme', y='score')\n",
    "plt.show()"
   ]
  },
  {
   "cell_type": "code",
   "execution_count": null,
   "metadata": {},
   "outputs": [],
   "source": []
  }
 ],
 "metadata": {
  "kernelspec": {
   "display_name": "Python 3",
   "language": "python",
   "name": "python3"
  },
  "language_info": {
   "codemirror_mode": {
    "name": "ipython",
    "version": 3
   },
   "file_extension": ".py",
   "mimetype": "text/x-python",
   "name": "python",
   "nbconvert_exporter": "python",
   "pygments_lexer": "ipython3",
   "version": "3.12.1"
  }
 },
 "nbformat": 4,
 "nbformat_minor": 2
}
